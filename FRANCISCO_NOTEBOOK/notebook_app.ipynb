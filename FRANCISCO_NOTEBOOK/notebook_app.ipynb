{
 "metadata": {
  "kernelspec": {
   "display_name": "Streamlit Notebook",
   "name": "streamlit"
  },
  "lastEditStatus": {
   "notebookId": "jv2z34h7sncayauh2wui",
   "authorId": "6464017784594",
   "authorName": "FLEYVA",
   "authorEmail": "Francisco.Leyva@perficient.com",
   "sessionId": "238479b3-2ed2-4fbe-a3a0-34f7a1d95fb6",
   "lastEditTime": 1756351595777
  }
 },
 "nbformat_minor": 5,
 "nbformat": 4,
 "cells": [
  {
   "cell_type": "markdown",
   "id": "242a2de9-9666-4e73-8585-24b2d9a44f49",
   "metadata": {
    "name": "md_welcome",
    "collapsed": false
   },
   "source": "# Welcome to the Snowflake Cortex AISQL Demonstration Notebook 👋\nThis notebook provides a practical overview of Snowflake's AI capabilities for extracting insights from unstructured data sources such as documents, images, and more. Using [Snowflake Cortex AISQL](https://docs.snowflake.com/en/user-guide/snowflake-cortex/aisql#label-cortex-llm-ai-function) functions, we will demonstrate how to seamlessly integrate AI-powered analysis within your data workflows.\n\n## What to Expect in This Notebook\n- 📁 Set up an internal Snowflake stage and upload sample files\n- 🔍 Explore the contents of the stage using SQL queries\n- 🤖 Apply Cortex AISQL functions to extract meaningful information from the uploaded files\n\n## Available AISQL Functions (as of August 2025)\nThe following AISQL functions are currently supported:\n\n| Function | Description |\n| ----------- | ----------- |\n| [AI_COMPLETE](https://docs.snowflake.com/en/sql-reference/functions/ai_complete) | Generates a completion for a given text string or image using a selected LLM. Use this function for most generative AI tasks. |\n| [AI_CLASSIFY](https://docs.snowflake.com/en/sql-reference/functions/ai_classify) | Classifies text or images into user-defined categories. |\n| [AI_FILTER](https://docs.snowflake.com/en/sql-reference/functions/ai_filter) | Returns True or False for a given text or image input, allowing you to filter results in SELECT, WHERE, or JOIN ... ON clauses. |\n| [AI_AGG](https://docs.snowflake.com/en/sql-reference/functions/ai_agg) | Aggregates a text column and returns insights across multiple rows based on a user-defined prompt. |\n| [AI_EMBED](https://docs.snowflake.com/en/sql-reference/functions/ai_embed) |  Generates an embedding vector for a text or image input, which can be used for similarity search, clustering, and classification tasks. |\n| [AI_EXTRACT](https://docs.snowflake.com/en/sql-reference/functions/ai_extract) | Extracts information from an input string or file, for example, text, images, and documents. Supports multiple languages. |\n| [AI_SUMMARIZE_AGG](https://docs.snowflake.com/en/sql-reference/functions/ai_summarize_agg) | Aggregates a text column and returns a summary across multiple rows. This function isn’t subject to context window limitations. |\n| [AI_SIMILARITY](https://docs.snowflake.com/en/sql-reference/functions/ai_summarize_agg) | Calculates the embedding similarity between two inputs. |\n| [AI_TRANSCRIBE](https://docs.snowflake.com/en/sql-reference/functions/ai_transcribe) | Transcribes audio files stored in a stage, extracting text, timestamps, and speaker information. |\n| [AI_PARSE_DOCUMENT](https://docs.snowflake.com/en/sql-reference/functions/ai_parse_document) | Extracts text (using OCR mode) or text with layout information (using LAYOUT mode) from documents in an internal or external stage. |\n| [TRANSLATE](https://docs.snowflake.com/en/sql-reference/functions/translate-snowflake-cortex) | Translates text between supported languages. |\n| [AI_SENTIMENT](https://docs.snowflake.com/en/sql-reference/functions/ai_sentiment) | Extracts sentiment scores from text. |\n| [EXTRACT_ANSWER](https://docs.snowflake.com/en/sql-reference/functions/ai_sentiment) | Extracts the answer to a question from unstructured data, provided that the relevant data exists. |\n| [SUMMARIZE](https://docs.snowflake.com/en/sql-reference/functions/summarize-snowflake-cortex) | Returns a summary of the text that you’ve specified. |\n\n\n---\n## Additional Information 📚\n\nTo deepen your understanding of Snowflake Cortex AISQL capabilities, consider exploring the following key areas:\n\n#### 🔍 Documentation Links\n\n- [Available Models](https://docs.snowflake.com/en/user-guide/snowflake-cortex/aisql#regional-availability)\n- [Cost Considerations](https://docs.snowflake.com/en/user-guide/snowflake-cortex/aisql#cost-considerations)\n- [Track credit comsuption for AISQL functions](https://docs.snowflake.com/en/user-guide/snowflake-cortex/aisql#track-credit-consumption-for-aisql-functions)\n- [Choosing a model](https://docs.snowflake.com/en/user-guide/snowflake-cortex/aisql#choosing-a-model)\n\n#### 💡 Track AISQL Usage and Cost\nUse the following query to monitor credit consumption associated with AISQL function usage:\n\n```sql\nSELECT *\n  FROM SNOWFLAKE.ACCOUNT_USAGE.CORTEX_FUNCTIONS_USAGE_HISTORY;\n```\n\n---"
  },
  {
   "cell_type": "markdown",
   "id": "f852199b-abca-4c6d-830c-ac211346c494",
   "metadata": {
    "name": "md_setup",
    "collapsed": false
   },
   "source": "## Snowflake Environment Setup ❄️\nBefore proceeding, ensure that you are working within the appropriate Snowflake schema and that the required internal stage for file storage is available.\n\nThis step is essential to enable file uploads and subsequent processing using Cortex AISQL functions.\n\n---"
  },
  {
   "cell_type": "code",
   "id": "17f2e63f-ca7a-4756-9a20-b6d5d735ea74",
   "metadata": {
    "language": "sql",
    "name": "sql_setup",
    "collapsed": false,
    "codeCollapsed": false
   },
   "outputs": [],
   "source": "-- Setup objects\nUSE ROLE FRANCISCO_LEYVA_ROLE;\nCREATE SCHEMA IF NOT EXISTS FRANCISCO_SCHEMA;\n\n-- Move the appropriate schema\nUSE SCHEMA FRANCISCO_SCHEMA;\nUSE WAREHOUSE QUERY_WH;\n\n-- Create stage (if missing)\nCREATE OR ALTER STAGE FRANCISCO_STAGE\n  ENCRYPTION = (TYPE = 'SNOWFLAKE_SSE')\nDIRECTORY = (ENABLE = TRUE);",
   "execution_count": null
  },
  {
   "cell_type": "code",
   "id": "97959fff-3a39-4a10-9b6f-37489d0655c3",
   "metadata": {
    "language": "python",
    "name": "py_setup",
    "collapsed": false,
    "codeCollapsed": false
   },
   "outputs": [],
   "source": "# Import python packages\nimport streamlit as st\nimport pandas as pd\n\n# We can also use Snowpark for our analyses!\nfrom snowflake.snowpark.context import get_active_session\nsession = get_active_session()",
   "execution_count": null
  },
  {
   "cell_type": "markdown",
   "id": "23c5acd8-5e90-487f-811f-68ed4cd5064d",
   "metadata": {
    "name": "md_explore",
    "collapsed": false
   },
   "source": "## Exploring the Internal Stage 📂\nIn this section, we will browse the contents of the internal Snowflake stage to verify that the files have been uploaded successfully. This step ensures that the data is accessible and ready for processing using Cortex AISQL functions.\n\nYou may also upload additional files at this point, if needed, to expand the scope of the analysis."
  },
  {
   "cell_type": "code",
   "id": "4b4a2891-69a2-4074-8305-5edf6c3e5592",
   "metadata": {
    "language": "sql",
    "name": "sql_stage",
    "collapsed": false,
    "codeCollapsed": false
   },
   "outputs": [],
   "source": "-- List directory content\nSELECT  * FROM DIRECTORY('@FRANCISCO_STAGE');",
   "execution_count": null
  },
  {
   "cell_type": "code",
   "id": "4ded349f-2284-44f1-9400-44d2a9434ddb",
   "metadata": {
    "language": "sql",
    "name": "sql_files",
    "collapsed": false,
    "codeCollapsed": false
   },
   "outputs": [],
   "source": "-- List files (images) under the \"kitchens\" path\nSELECT *, \n    TRY_TO_FILE(FILE_URL) AS FILE_IMAGE,\n    GET_PRESIGNED_URL(@FRANCISCO_STAGE,RELATIVE_PATH) AS PRESIGNED_URL\nFROM DIRECTORY('@FRANCISCO_STAGE')\nWHERE STARTSWITH(RELATIVE_PATH,'kitchens');",
   "execution_count": null
  },
  {
   "cell_type": "code",
   "id": "a1bfe7f2-779b-4453-b61e-f309b766411d",
   "metadata": {
    "language": "python",
    "name": "py_list",
    "collapsed": false,
    "codeCollapsed": false
   },
   "outputs": [],
   "source": "import pandas as pd\nimport streamlit as st\n\n# Load Snowflake stage file data\ndf_stage = sql_files.to_pandas()\n\nst.title(\"Images Table\")\n\n# Build DataFrame with additional columns\ndf = pd.DataFrame(\n    {\n        \"ID\": df_stage[\"RELATIVE_PATH\"],\n        \"IMAGE\": df_stage[\"PRESIGNED_URL\"],\n        \"URL\": df_stage[\"PRESIGNED_URL\"]\n    }\n)\n\n# Display the DataFrame in Streamlit\nst.dataframe(\n    df,\n    column_config={\n        \"ID\": \"ID\",\n        \"IMAGE\": st.column_config.ImageColumn(\"Image\", width=\"medium\"),\n        \"URL\": st.column_config.LinkColumn(\"URL\")\n    },\n    use_container_width=False,\n    height=400,\n    hide_index=True\n)\n",
   "execution_count": null
  },
  {
   "cell_type": "markdown",
   "id": "5764362f-8221-41f1-9c9d-c058494eff90",
   "metadata": {
    "name": "md_aisql",
    "collapsed": false
   },
   "source": "## Applying Snowflake AI SQL Functions 🤖\nIn this section, we will leverage Snowflake Cortex AISQL functions to extract meaningful insights from image files stored in the internal stage.\n\nSpecifically, we will use the AI_COMPLETE and AI_CLASSIFY functions to:\n\n- Generate and extract relevant information from each image\n- Store the results in a temporary table for structured analysis\n- Query and explore the extracted insights directly from the table\n\nThis approach demonstrates how Snowflake’s native AI capabilities can be seamlessly integrated into your data workflows to analyze unstructured content at scale."
  },
  {
   "cell_type": "code",
   "id": "74e7cb8e-a9b2-485f-9cfb-e04efaac7c57",
   "metadata": {
    "language": "sql",
    "name": "sql_aisql",
    "collapsed": false,
    "codeCollapsed": false
   },
   "outputs": [],
   "source": "CREATE OR REPLACE TEMPORARY TABLE KITCHENS_DATA AS\nSELECT\n\n    -- Image identifier\n    RELATIVE_PATH,\n\n    -- Generate an image description\n    CONCAT('This is a picture describing the kitchen: '|| RELATIVE_PATH || ' This is the description: ' ||\n        AI_COMPLETE('claude-3-5-sonnet', 'Describe this image: ', TO_FILE('@FRANCISCO_STAGE', RELATIVE_PATH))) AS DESCRIPTION,\n\n    -- Classify this kitchen as modern, industrial or vintage\n    -- AI_COMPLETE('claude-3-5-sonnet', 'Classify this image, respond only with Modern or Traditional: ',  TO_FILE('@FRANCISCO_STAGE', RELATIVE_PATH)) AS STYLE,\n    AI_CLASSIFY(TO_FILE('@FRANCISCO_STAGE', RELATIVE_PATH), ['modern', 'industrial', 'vintage']):labels AS STYLE,\n\n    -- Generate and extract the kitchen appliances for each image\n    AI_COMPLETE('claude-3-5-sonnet', 'Extract the kitchen appliances identified in this image. Return an array only with the identified appliances.',\n    TO_FILE('@FRANCISCO_STAGE', RELATIVE_PATH)) AS APPLIANCES\n    \nFROM \n    {{sql_files}}\nWHERE STARTSWITH(RELATIVE_PATH, 'kitchens');",
   "execution_count": null
  },
  {
   "cell_type": "code",
   "id": "90f22e53-1b24-4f34-9590-17cbdbdd9c64",
   "metadata": {
    "language": "sql",
    "name": "sql_aisql_list",
    "collapsed": false,
    "codeCollapsed": false
   },
   "outputs": [],
   "source": "-- Show kitchens data\nSELECT * FROM KITCHENS_DATA;",
   "execution_count": null
  },
  {
   "cell_type": "markdown",
   "id": "5eb88e3e-603e-4684-b23a-1f708165a7a9",
   "metadata": {
    "name": "md_aisql_filter",
    "collapsed": false
   },
   "source": "### Using AI_FILTER to Locate Specific Records 🔎\n\nThe AI_FILTER function enables intelligent querying of unstructured data using natural language. In this section, we demonstrate how to apply AI_FILTER to search for specific records from the kitchens table using generative AI."
  },
  {
   "cell_type": "code",
   "id": "8a4f3b03-b3df-4195-a3b8-86922ac2c9ca",
   "metadata": {
    "language": "sql",
    "name": "sql_aisql_filter",
    "collapsed": false,
    "codeCollapsed": false
   },
   "outputs": [],
   "source": "-- Find a specific kitchen using AI_FILTER\nSELECT *, TRUE AS HAS_LEMONS\nFROM KITCHENS_DATA\nWHERE AI_FILTER(PROMPT('There are lemons in the kitchen: {0}', DESCRIPTION));",
   "execution_count": null
  },
  {
   "cell_type": "markdown",
   "id": "29e4865a-e3ab-4f5f-bffb-d2a3834fff6a",
   "metadata": {
    "name": "md_resumes",
    "collapsed": false
   },
   "source": "### Resumes"
  },
  {
   "cell_type": "code",
   "id": "2325ae57-e2be-4495-8012-af6822398973",
   "metadata": {
    "language": "sql",
    "name": "sql_resumes",
    "collapsed": false,
    "codeCollapsed": false
   },
   "outputs": [],
   "source": "SELECT *\nFROM DIRECTORY('@FRANCISCO_STAGE')\nWHERE STARTSWITH(RELATIVE_PATH,'resumes');",
   "execution_count": null
  },
  {
   "cell_type": "code",
   "id": "11b43512-18e5-4399-af58-54d203f9d374",
   "metadata": {
    "language": "sql",
    "name": "sql_resumes_aisql"
   },
   "outputs": [],
   "source": "SELECT\n    RELATIVE_PATH,\n    AI_EXTRACT(\n     file => TO_FILE('@FRANCISCO_STAGE', RELATIVE_PATH),\n     responseFormat => [\n     ['is_data_engineer','Based in this resume content, is this person a Data Engineer?'],\n     ['is_java_developer','Based in this resume content, Does this person knows Java?'],\n     ['is_snowflake_dev','Based in this resume content, Does this person knows Snowflake?'],\n     ['snowflake_experience','Level of experience in Snowflake based in resume content, reply with only one of these options: Expert, Intermediate, Entry or None.'],\n     ['languages','Which languages does this person speak?']\n     ]\n    ) AS DATA_EXTRACT,\n    -- AI_CLASSIFY('Based in this resume content, is this person a Data Engineer?', ['true', 'false']) AS IS_DATA_ENGINEER,\n    -- AI_CLASSIFY('Based in this resume content, Does this person knows Java?', ['true', 'false']) AS IS_JAVA_DEVELOPER,\n    AI_PARSE_DOCUMENT (TO_FILE('@FRANCISCO_STAGE', RELATIVE_PATH), {'mode': 'LAYOUT' , 'page_split': true}) AS CONTENT\nFROM {{sql_resumes}};",
   "execution_count": null
  }
 ]
}